{
 "cells": [
  {
   "cell_type": "markdown",
   "metadata": {},
   "source": [
    "Some general notes:\n",
    "* `product_sku` in the `products` table is analogous to `product_id` in the `orders` table.\n",
    "* `cust_no` in the `orders` table is analogous to `customer_number` in the `customers` table."
   ]
  },
  {
   "cell_type": "code",
   "execution_count": 1,
   "metadata": {},
   "outputs": [],
   "source": [
    "import pandas as pd\n",
    "import numpy as np\n",
    "from sqlalchemy import create_engine\n",
    "import os\n",
    "import requests\n",
    "%reload_ext sql"
   ]
  },
  {
   "cell_type": "code",
   "execution_count": 2,
   "metadata": {},
   "outputs": [],
   "source": [
    "customers = pd.read_csv(r\"customers.csv\")\n",
    "orders = pd.read_csv(r\"orders.csv\", parse_dates=['ts'])\n",
    "products = pd.read_csv(r\"products.csv\", error_bad_lines=False)"
   ]
  },
  {
   "cell_type": "code",
   "execution_count": 3,
   "metadata": {},
   "outputs": [],
   "source": [
    "engine = create_engine('sqlite:///coolbusinessllcdb.sql', echo=False)\n",
    "customers.to_sql('customers', con=engine, if_exists='replace')\n",
    "orders.to_sql('orders', con=engine, if_exists='replace')\n",
    "products.to_sql('products', con=engine, if_exists='replace')\n",
    "os.environ[\"DATABASE_URL\"]='sqlite:///coolbusinessllcdb.sql'"
   ]
  },
  {
   "cell_type": "code",
   "execution_count": 4,
   "metadata": {},
   "outputs": [
    {
     "name": "stdout",
     "output_type": "stream",
     "text": [
      "2 rows affected.\n"
     ]
    },
    {
     "data": {
      "text/plain": [
       "[]"
      ]
     },
     "execution_count": 4,
     "metadata": {},
     "output_type": "execute_result"
    }
   ],
   "source": [
    "%%sql\n",
    "UPDATE products\n",
    "SET msrp = \"Unnamd: 3\"\n",
    "WHERE \"Unnamed: 3\" IS NOT NULL"
   ]
  },
  {
   "cell_type": "markdown",
   "metadata": {},
   "source": [
    "1. How many unique customers have had any transaction with Cool Business in 2021? "
   ]
  },
  {
   "cell_type": "code",
   "execution_count": 5,
   "metadata": {},
   "outputs": [
    {
     "name": "stdout",
     "output_type": "stream",
     "text": [
      " * sqlite:///coolbusinessllcdb.sql\n",
      "Done.\n"
     ]
    },
    {
     "data": {
      "text/html": [
       "<table>\n",
       "    <tr>\n",
       "        <th>COUNT(DISTINCT cust_no)</th>\n",
       "    </tr>\n",
       "    <tr>\n",
       "        <td>48</td>\n",
       "    </tr>\n",
       "</table>"
      ],
      "text/plain": [
       "[(48,)]"
      ]
     },
     "execution_count": 5,
     "metadata": {},
     "output_type": "execute_result"
    }
   ],
   "source": [
    "%%sql \n",
    "SELECT COUNT(DISTINCT cust_no)\n",
    "FROM orders\n",
    "WHERE strftime('%Y',ts) = '2021'"
   ]
  },
  {
   "cell_type": "markdown",
   "metadata": {},
   "source": [
    "2. What are the last names of the customers who purchased tyx/q/109 in February 2021?"
   ]
  },
  {
   "cell_type": "code",
   "execution_count": 6,
   "metadata": {},
   "outputs": [
    {
     "name": "stdout",
     "output_type": "stream",
     "text": [
      " * sqlite:///coolbusinessllcdb.sql\n",
      "Done.\n"
     ]
    },
    {
     "data": {
      "text/html": [
       "<table>\n",
       "    <tr>\n",
       "        <th>last_name</th>\n",
       "    </tr>\n",
       "    <tr>\n",
       "        <td> Clarkson</td>\n",
       "    </tr>\n",
       "    <tr>\n",
       "        <td> Dube</td>\n",
       "    </tr>\n",
       "    <tr>\n",
       "        <td> Metz</td>\n",
       "    </tr>\n",
       "    <tr>\n",
       "        <td> Oneal</td>\n",
       "    </tr>\n",
       "    <tr>\n",
       "        <td> Haywood</td>\n",
       "    </tr>\n",
       "</table>"
      ],
      "text/plain": [
       "[(' Clarkson',), (' Dube',), (' Metz',), (' Oneal',), (' Haywood',)]"
      ]
     },
     "execution_count": 6,
     "metadata": {},
     "output_type": "execute_result"
    }
   ],
   "source": [
    "%%sql \n",
    "SELECT DISTINCT customers.last_name\n",
    "FROM orders\n",
    "LEFT JOIN customers\n",
    "ON orders.cust_no = customers.customer_number\n",
    "WHERE orders.product_id = 'tyx/q/109' AND strftime('%Y-%m',ts) = '2021-02'"
   ]
  },
  {
   "cell_type": "markdown",
   "metadata": {},
   "source": [
    "3. How many total `orders` (including *ALL* `transact_types`) were made for fff/x/990?"
   ]
  },
  {
   "cell_type": "code",
   "execution_count": 7,
   "metadata": {},
   "outputs": [
    {
     "name": "stdout",
     "output_type": "stream",
     "text": [
      " * sqlite:///coolbusinessllcdb.sql\n",
      "Done.\n"
     ]
    },
    {
     "data": {
      "text/html": [
       "<table>\n",
       "    <tr>\n",
       "        <th>num_orders</th>\n",
       "    </tr>\n",
       "    <tr>\n",
       "        <td>9</td>\n",
       "    </tr>\n",
       "</table>"
      ],
      "text/plain": [
       "[(9,)]"
      ]
     },
     "execution_count": 7,
     "metadata": {},
     "output_type": "execute_result"
    }
   ],
   "source": [
    "%%sql \n",
    "SELECT COUNT(orders.order_number) AS num_orders\n",
    "FROM orders\n",
    "WHERE orders.product_id = 'fff/x/990'"
   ]
  },
  {
   "cell_type": "markdown",
   "metadata": {},
   "source": [
    "4. How many `orders` with a `transact_type` of `SALE` were to customers in the state of New Jersey? The state code `NJ` is in the `address` field in the `customers` table."
   ]
  },
  {
   "cell_type": "code",
   "execution_count": 8,
   "metadata": {},
   "outputs": [
    {
     "name": "stdout",
     "output_type": "stream",
     "text": [
      " * sqlite:///coolbusinessllcdb.sql\n",
      "Done.\n"
     ]
    },
    {
     "data": {
      "text/html": [
       "<table>\n",
       "    <tr>\n",
       "        <th>COUNT(DISTINCT orders.order_number)</th>\n",
       "    </tr>\n",
       "    <tr>\n",
       "        <td>19</td>\n",
       "    </tr>\n",
       "</table>"
      ],
      "text/plain": [
       "[(19,)]"
      ]
     },
     "execution_count": 8,
     "metadata": {},
     "output_type": "execute_result"
    }
   ],
   "source": [
    "%%sql\n",
    "SELECT COUNT(DISTINCT orders.order_number)\n",
    "FROM orders\n",
    "LEFT JOIN customers\n",
    "ON orders.cust_no = customers.customer_number\n",
    "WHERE customers.address LIKE '%NJ%' AND orders.transact_type = 'SALE'"
   ]
  },
  {
   "cell_type": "markdown",
   "metadata": {},
   "source": [
    "5. How many unique customers have had sucessful, non-returned transactions with Cool Business in 2021? Do not include customers who have *not* had a succesful transaction in 2021. A sucessful transaction is one which is of transact_type `SALE`, and has no subsequent return against the same `order_number`."
   ]
  },
  {
   "cell_type": "code",
   "execution_count": 9,
   "metadata": {},
   "outputs": [
    {
     "name": "stdout",
     "output_type": "stream",
     "text": [
      " * sqlite:///coolbusinessllcdb.sql\n",
      "Done.\n"
     ]
    },
    {
     "data": {
      "text/html": [
       "<table>\n",
       "    <tr>\n",
       "        <th>COUNT(DISTINCT cust_no)</th>\n",
       "    </tr>\n",
       "    <tr>\n",
       "        <td>44</td>\n",
       "    </tr>\n",
       "</table>"
      ],
      "text/plain": [
       "[(44,)]"
      ]
     },
     "execution_count": 9,
     "metadata": {},
     "output_type": "execute_result"
    }
   ],
   "source": [
    "%%sql \n",
    "\n",
    "SELECT COUNT(DISTINCT cust_no)\n",
    "FROM orders\n",
    "WHERE (strftime('%Y', ts) = '2021') AND (order_number NOT IN (\n",
    "    SELECT order_number\n",
    "    FROM orders\n",
    "    WHERE transact_type IN ('VOID', 'FAILED')))\n"
   ]
  },
  {
   "cell_type": "markdown",
   "metadata": {},
   "source": [
    "6. Cool Business needs a list of all the customers with a `VOID` order for any Product ID/SKU that starts with the letter `t`. This list will then be loaded into an email tool for a personalized email campaign. Write a query which returns a table with the purchase dates, customer numbers, and first names of this group. In cases where first name is missing in the `customers` table, the string value `\"Customer\"` should be substituted. Assume the missing-first-name rows are `NULL` if these CSV files were loaded into a SQL database."
   ]
  },
  {
   "cell_type": "code",
   "execution_count": 10,
   "metadata": {},
   "outputs": [
    {
     "name": "stdout",
     "output_type": "stream",
     "text": [
      " * sqlite:///coolbusinessllcdb.sql\n",
      "Done.\n"
     ]
    },
    {
     "data": {
      "text/html": [
       "<table>\n",
       "    <tr>\n",
       "        <th>ts</th>\n",
       "        <th>cust_no</th>\n",
       "        <th>first_name</th>\n",
       "    </tr>\n",
       "    <tr>\n",
       "        <td>2021-02-25 05:44:54.000000</td>\n",
       "        <td>C1002958</td>\n",
       "        <td>Roxann</td>\n",
       "    </tr>\n",
       "    <tr>\n",
       "        <td>2021-01-29 21:19:46.000000</td>\n",
       "        <td>C1002942</td>\n",
       "        <td>Suzanna</td>\n",
       "    </tr>\n",
       "</table>"
      ],
      "text/plain": [
       "[('2021-02-25 05:44:54.000000', 'C1002958', 'Roxann'),\n",
       " ('2021-01-29 21:19:46.000000', 'C1002942', 'Suzanna')]"
      ]
     },
     "execution_count": 10,
     "metadata": {},
     "output_type": "execute_result"
    }
   ],
   "source": [
    "%%sql \n",
    "SELECT orders.ts, orders.cust_no, \n",
    "    CASE WHEN customers.first_name IS NULL THEN \"Customer\"\n",
    "    ELSE customers.first_name END AS first_name\n",
    "FROM orders\n",
    "LEFT JOIN customers\n",
    "ON orders.cust_no = customers.customer_number\n",
    "WHERE orders.transact_type = 'VOID' AND orders.product_id LIKE 't%'"
   ]
  },
  {
   "cell_type": "markdown",
   "metadata": {},
   "source": [
    "7. Generate a count of customers who have made 3 or more purchases."
   ]
  },
  {
   "cell_type": "code",
   "execution_count": 11,
   "metadata": {},
   "outputs": [
    {
     "name": "stdout",
     "output_type": "stream",
     "text": [
      " * sqlite:///coolbusinessllcdb.sql\n",
      "Done.\n"
     ]
    },
    {
     "data": {
      "text/html": [
       "<table>\n",
       "    <tr>\n",
       "        <th>num_customers</th>\n",
       "    </tr>\n",
       "    <tr>\n",
       "        <td>15</td>\n",
       "    </tr>\n",
       "</table>"
      ],
      "text/plain": [
       "[(15,)]"
      ]
     },
     "execution_count": 11,
     "metadata": {},
     "output_type": "execute_result"
    }
   ],
   "source": [
    "%%sql\n",
    "WITH cte AS (\n",
    "SELECT DISTINCT orders.cust_no, COUNT(orders.order_number) OVER(PARTITION BY orders.cust_no) AS num_purchases\n",
    "FROM orders)\n",
    "\n",
    "SELECT COUNT(cust_no) as num_customers\n",
    "FROM cte\n",
    "WHERE num_purchases >=3\n"
   ]
  },
  {
   "cell_type": "markdown",
   "metadata": {},
   "source": [
    "## City Bikes REST API \n",
    "\n",
    "* Calls the City Bikes REST API's (http://api.citybik.es/v2/) `networks` endpoint to retrieve information about bike shares around the world.\n",
    "* Creates a local CSV file containing 1 row for each network, with the following details only: Name | Company | Country"
   ]
  },
  {
   "cell_type": "code",
   "execution_count": 12,
   "metadata": {},
   "outputs": [],
   "source": [
    "url = 'http://api.citybik.es/v2/networks'\n",
    "r = requests.get(url)\n",
    "\n",
    "result = r.json()\n",
    "networks_new = []\n",
    "networks = result.get('networks')\n",
    "for each in networks:\n",
    "    each.update(each.get('location'))\n",
    "    networks_new.append({'Name':each.get('name'), 'Company':each.get('company'), 'Country':each.get('country')})\n",
    "pd.DataFrame(networks_new).to_csv(\"./coding/rest_api_output.csv\")"
   ]
  }
 ],
 "metadata": {
  "kernelspec": {
   "display_name": "Python 3",
   "language": "python",
   "name": "python3"
  },
  "language_info": {
   "codemirror_mode": {
    "name": "ipython",
    "version": 3
   },
   "file_extension": ".py",
   "mimetype": "text/x-python",
   "name": "python",
   "nbconvert_exporter": "python",
   "pygments_lexer": "ipython3",
   "version": "3.7.5"
  }
 },
 "nbformat": 4,
 "nbformat_minor": 2
}
